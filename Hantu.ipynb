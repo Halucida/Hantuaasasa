{
  "nbformat": 4,
  "nbformat_minor": 0,
  "metadata": {
    "colab": {
      "provenance": [],
      "gpuType": "T4",
      "authorship_tag": "ABX9TyPpMtEs5bcRMev9ahxmv/lc"
    },
    "kernelspec": {
      "name": "python3",
      "display_name": "Python 3"
    },
    "language_info": {
      "name": "python"
    },
    "accelerator": "GPU"
  },
  "cells": [
    {
      "cell_type": "code",
      "execution_count": 1,
      "metadata": {
        "id": "lesNTJw82myY"
      },
      "outputs": [],
      "source": [
        "import tensorflow as tf\n",
        "\n",
        "from tensorflow.keras import utils"
      ]
    },
    {
      "cell_type": "markdown",
      "source": [
        "### ```Holla !```"
      ],
      "metadata": {
        "id": "G2DQ5AM-r9jN"
      }
    },
    {
      "cell_type": "code",
      "source": [
        "orifile = \"https://github.com/dicodingacademy/assets/releases/download/release/rockpaperscissors.zip\"\n",
        "\n",
        "extract = !False\n",
        "\n",
        "utils.get_file(origin=orifile, cache_dir=\"/tmp\", extract=extract)"
      ],
      "metadata": {
        "id": "mHky9SBo3vJH"
      },
      "execution_count": null,
      "outputs": []
    },
    {
      "cell_type": "code",
      "source": [
        "base_dir = \"/tmp/datasets/rockpaperscissors/rps-cv-images\"\n",
        "\n",
        "batch_size = 128; image_size = (150, 150); validation_split = 0.3; seed = 404\n",
        "\n",
        "(train, testi) = utils.image_dataset_from_directory(\n",
        "    base_dir,\n",
        "    batch_size=batch_size,\n",
        "    image_size=image_size,\n",
        "    subset=\"both\", seed=seed,\n",
        "    validation_split=validation_split,\n",
        "    interpolation=\"nearest\"\n",
        ")\n",
        "\n",
        "output_node = len(train.class_names)"
      ],
      "metadata": {
        "id": "eZFxsLAA59oW"
      },
      "execution_count": null,
      "outputs": []
    },
    {
      "cell_type": "code",
      "source": [
        "def relayer(image, label):\n",
        "    image = tf.cast(image, tf.float32)\n",
        "    image = tf.math.divide(image, 255.0)\n",
        "    return image, label\n",
        "\n",
        "train = train.map(relayer).shuffle(100).cache()\n",
        "\n",
        "testi = testi.map(relayer)"
      ],
      "metadata": {
        "id": "NZnvR1l15_Zk"
      },
      "execution_count": 4,
      "outputs": []
    },
    {
      "cell_type": "code",
      "source": [
        "from Hantu import Modelin, Modeler\n",
        "\n",
        "from tensorflow.keras import layers, Model\n",
        "\n",
        "model_one = Modelin()\n",
        "\n",
        "train = train.map(lambda i, l : (model_one(i), l))"
      ],
      "metadata": {
        "id": "9FzOXAXe6AsS"
      },
      "execution_count": 5,
      "outputs": []
    },
    {
      "cell_type": "markdown",
      "source": [
        "### ```Model I```"
      ],
      "metadata": {
        "id": "qXNhu85fsEu1"
      }
    },
    {
      "cell_type": "code",
      "source": [
        "model = Modeler(output_node)\n",
        "\n",
        "model.compile(optimizer=\"adam\", loss=\"sparse_categorical_crossentropy\", metrics=[\"accuracy\"])\n",
        "\n",
        "hist = model.fit(train, epochs=8, verbose=1, validation_data=testi)"
      ],
      "metadata": {
        "id": "Qkxqj-IU6CAP"
      },
      "execution_count": null,
      "outputs": []
    },
    {
      "cell_type": "code",
      "source": [
        "model.evaluate(train, verbose=0)"
      ],
      "metadata": {
        "colab": {
          "base_uri": "https://localhost:8080/"
        },
        "id": "r5IJvlLPhxCi",
        "outputId": "f9190557-dd88-47ee-82a4-877096ad5959"
      },
      "execution_count": 7,
      "outputs": [
        {
          "output_type": "execute_result",
          "data": {
            "text/plain": [
              "[0.18775109946727753, 0.9412532448768616]"
            ]
          },
          "metadata": {},
          "execution_count": 7
        }
      ]
    },
    {
      "cell_type": "code",
      "source": [
        "model.evaluate(testi, verbose=0)"
      ],
      "metadata": {
        "colab": {
          "base_uri": "https://localhost:8080/"
        },
        "id": "EXNWpiFhkoyB",
        "outputId": "09ab6604-0c24-4442-f298-e00ddafb4760"
      },
      "execution_count": 8,
      "outputs": [
        {
          "output_type": "execute_result",
          "data": {
            "text/plain": [
              "[0.16721293330192566, 0.9512194991111755]"
            ]
          },
          "metadata": {},
          "execution_count": 8
        }
      ]
    },
    {
      "cell_type": "code",
      "source": [
        "from Histplot import Histplot\n",
        "\n",
        "image_hist = Histplot(hist, hist_acc=\"accuracy\")"
      ],
      "metadata": {
        "id": "UYuucIzSksbk"
      },
      "execution_count": 9,
      "outputs": []
    },
    {
      "cell_type": "code",
      "source": [
        "image_hist.Trainplot()"
      ],
      "metadata": {
        "colab": {
          "base_uri": "https://localhost:8080/",
          "height": 528
        },
        "id": "_j2GQWW0liiD",
        "outputId": "29ddf1bc-9eff-4768-fcf0-9ecc95eb1724"
      },
      "execution_count": 10,
      "outputs": [
        {
          "output_type": "display_data",
          "data": {
            "text/plain": [
              "<Figure size 1000x500 with 2 Axes>"
            ],
            "image/png": "[encoded data removed]"
          },
          "metadata": {}
        }
      ]
    },
    {
      "cell_type": "code",
      "source": [
        "image_hist.Testiplot()"
      ],
      "metadata": {
        "colab": {
          "base_uri": "https://localhost:8080/",
          "height": 528
        },
        "id": "jg7BVcZTlkOK",
        "outputId": "15b1cde3-989b-4725-91bc-2debbc1664c4"
      },
      "execution_count": 11,
      "outputs": [
        {
          "output_type": "display_data",
          "data": {
            "text/plain": [
              "<Figure size 1000x500 with 2 Axes>"
            ],
            "image/png": "[encoded data removed]"
          },
          "metadata": {}
        }
      ]
    },
    {
      "cell_type": "code",
      "source": [
        "!echo \"deb http://storage.googleapis.com/tensorflow-serving-apt stable tensorflow-model-server tensorflow-model-server-universal\" | tee /etc/apt/sources.list.d/tensorflow-serving.list && \\\n",
        "curl https://storage.googleapis.com/tensorflow-serving-apt/tensorflow-serving.release.pub.gpg | apt-key add -\n",
        "!apt update\n",
        "\n",
        "!apt-get install tensorflow-model-server"
      ],
      "metadata": {
        "id": "JfnhP0-LlpXd"
      },
      "execution_count": null,
      "outputs": []
    },
    {
      "cell_type": "code",
      "source": [
        "import os\n",
        "\n",
        "model_folder = \"/tmp/model\"\n",
        "\n",
        "if not os.path.exists(model_folder):\n",
        "  os.mkdir(model_folder)"
      ],
      "metadata": {
        "id": "V-7ljwNJl2ws"
      },
      "execution_count": 13,
      "outputs": []
    },
    {
      "cell_type": "code",
      "source": [
        "model_serial = \"1\"\n",
        "\n",
        "model_path = os.path.join(model_folder, model_serial)\n",
        "\n",
        "tf.saved_model.save(model, model_path)"
      ],
      "metadata": {
        "id": "bNfBFVb7mHcG"
      },
      "execution_count": 14,
      "outputs": []
    },
    {
      "cell_type": "code",
      "source": [
        "os.environ[\"ModelFolder\"] = \"/tmp/model\""
      ],
      "metadata": {
        "id": "libP-p89mZhs"
      },
      "execution_count": 15,
      "outputs": []
    },
    {
      "cell_type": "code",
      "source": [
        "%%bash --bg\n",
        "nohup tensorflow_model_server \\\n",
        "  --rest_api_port=8501 \\\n",
        "  --model_name=inter_model \\\n",
        "  --model_base_path=\"${ModelFolder}\""
      ],
      "metadata": {
        "id": "6HHy937KmokB"
      },
      "execution_count": 16,
      "outputs": []
    },
    {
      "cell_type": "code",
      "source": [
        "!tail server.log"
      ],
      "metadata": {
        "id": "RuY7hkMNm2gm"
      },
      "execution_count": 17,
      "outputs": []
    },
    {
      "cell_type": "code",
      "source": [
        "import json, requests\n",
        "\n",
        "test_img, test_label = next(iter(testi))\n",
        "\n",
        "test_img = test_img.numpy().tolist()\n",
        "\n",
        "url = \"http://127.0.0.1:8501/v1/models/inter_model:predict\""
      ],
      "metadata": {
        "id": "n_Fkb0rYm_gw"
      },
      "execution_count": 18,
      "outputs": []
    },
    {
      "cell_type": "code",
      "source": [
        "import tensorflow as tf\n",
        "import json, requests\n",
        "\n",
        "def Modeler(test_data, url, output=\"max\"):\n",
        "  data = json.dumps({\"signature_name\":\"serving_default\", \"instances\":test_data})\n",
        "  json_resp = requests.post(url, data=data, headers={\"content-type\":\"application/json\"})\n",
        "  json_load = json.loads(json_resp.text)\n",
        "  result = json_load[\"predictions\"]\n",
        "  if output == \"max\":\n",
        "    return tf.math.argmax(result, axis=1).numpy()\n",
        "  elif output == \"original\":\n",
        "    return result\n",
        "\n",
        "output = Modeler(test_img, url, output=\"max\")"
      ],
      "metadata": {
        "id": "rvjwzrOonxpB"
      },
      "execution_count": 19,
      "outputs": []
    },
    {
      "cell_type": "code",
      "source": [
        "output"
      ],
      "metadata": {
        "colab": {
          "base_uri": "https://localhost:8080/"
        },
        "id": "e0WZt8_En8uh",
        "outputId": "dc3e286e-684c-475e-f6b0-173097e742b8"
      },
      "execution_count": 20,
      "outputs": [
        {
          "output_type": "execute_result",
          "data": {
            "text/plain": [
              "array([2, 1, 2, 0, 0, 0, 0, 0, 0, 2, 1, 1, 0, 1, 1, 1, 1, 1, 1, 0, 1, 1,\n",
              "       2, 2, 2, 2, 1, 1, 2, 0, 2, 0, 1, 1, 1, 1, 1, 1, 0, 2, 2, 1, 1, 2,\n",
              "       1, 0, 1, 1, 1, 0, 0, 1, 1, 1, 2, 0, 2, 0, 0, 1, 1, 2, 2, 0, 1, 1,\n",
              "       2, 0, 0, 0, 0, 2, 1, 2, 0, 0, 2, 2, 2, 1, 0, 0, 1, 1, 2, 2, 1, 0,\n",
              "       1, 2, 2, 0, 2, 1, 2, 1, 0, 1, 2, 1, 0, 1, 1, 0, 1, 1, 0, 1, 2, 1,\n",
              "       0, 0, 2, 1, 2, 1, 2, 0, 2, 2, 2, 1, 1, 1, 0, 2, 2, 1])"
            ]
          },
          "metadata": {},
          "execution_count": 20
        }
      ]
    },
    {
      "cell_type": "code",
      "source": [
        "logits = Modeler(test_img, url, output=\"original\")\n",
        "\n",
        "loss_fn = tf.keras.losses.SparseCategoricalCrossentropy()\n",
        "\n",
        "loss_i = loss_fn(test_label, logits)\n",
        "\n",
        "loss_i.numpy()"
      ],
      "metadata": {
        "colab": {
          "base_uri": "https://localhost:8080/"
        },
        "id": "DVYulMitn-6u",
        "outputId": "9c055f5f-9957-4217-e40f-48f73dbbce26"
      },
      "execution_count": 21,
      "outputs": [
        {
          "output_type": "execute_result",
          "data": {
            "text/plain": [
              "0.20447195"
            ]
          },
          "metadata": {},
          "execution_count": 21
        }
      ]
    },
    {
      "cell_type": "markdown",
      "source": [
        "### ```Optional```"
      ],
      "metadata": {
        "id": "0gt2uQDgpv1v"
      }
    },
    {
      "cell_type": "code",
      "source": [
        "model.save('/tmp/modelapi',save_format='tf')"
      ],
      "metadata": {
        "id": "Bqv2ncAfowrf"
      },
      "execution_count": 22,
      "outputs": []
    },
    {
      "cell_type": "code",
      "source": [
        "!zip -r \"modelapi.zip\" \"/tmp/modelapi\""
      ],
      "metadata": {
        "id": "C_hLuy3dpLlh"
      },
      "execution_count": null,
      "outputs": []
    },
    {
      "cell_type": "code",
      "source": [
        "model_api = tf.keras.models.load_model('/tmp/modelapi')\n",
        "\n",
        "model_api.evaluate(train, verbose=0)"
      ],
      "metadata": {
        "colab": {
          "base_uri": "https://localhost:8080/"
        },
        "id": "KZd-IlDhpcU3",
        "outputId": "11008096-7bf1-4dbc-a0cf-2a712b5226d7"
      },
      "execution_count": 24,
      "outputs": [
        {
          "output_type": "execute_result",
          "data": {
            "text/plain": [
              "[0.17878428101539612, 0.9503916501998901]"
            ]
          },
          "metadata": {},
          "execution_count": 24
        }
      ]
    }
  ]
}