{
  "nbformat": 4,
  "nbformat_minor": 0,
  "metadata": {
    "colab": {
      "provenance": [],
      "gpuType": "T4",
      "authorship_tag": "ABX9TyPTZ8Vjh0pCT3kji3fIbrFl"
    },
    "kernelspec": {
      "name": "python3",
      "display_name": "Python 3"
    },
    "language_info": {
      "name": "python"
    },
    "accelerator": "GPU"
  },
  "cells": [
    {
      "cell_type": "code",
      "execution_count": 1,
      "metadata": {
        "id": "lesNTJw82myY"
      },
      "outputs": [],
      "source": [
        "import tensorflow as tf\n",
        "\n",
        "from tensorflow.keras import utils"
      ]
    },
    {
      "cell_type": "code",
      "source": [
        "orifile = \"https://github.com/dicodingacademy/assets/releases/download/release/rockpaperscissors.zip\"\n",
        "\n",
        "extract = !False\n",
        "\n",
        "utils.get_file(origin=orifile, cache_dir=\"/tmp\", extract=extract)"
      ],
      "metadata": {
        "id": "mHky9SBo3vJH"
      },
      "execution_count": null,
      "outputs": []
    },
    {
      "cell_type": "code",
      "source": [
        "base_dir = \"/tmp/datasets/rockpaperscissors/rps-cv-images\"\n",
        "\n",
        "batch_size = 128; image_size = (150, 150); validation_split = 0.3; seed = 404\n",
        "\n",
        "(train, testi) = utils.image_dataset_from_directory(\n",
        "    base_dir,\n",
        "    batch_size=batch_size,\n",
        "    image_size=image_size,\n",
        "    subset=\"both\", seed=seed,\n",
        "    validation_split=validation_split,\n",
        "    interpolation=\"nearest\"\n",
        ")\n",
        "\n",
        "output_node = len(train.class_names)"
      ],
      "metadata": {
        "id": "eZFxsLAA59oW"
      },
      "execution_count": null,
      "outputs": []
    },
    {
      "cell_type": "code",
      "source": [
        "def relayer(image, label):\n",
        "    image = tf.cast(image, tf.float32)\n",
        "    image = tf.math.divide(image, 255.0)\n",
        "    return image, label\n",
        "\n",
        "train = train.map(relayer).shuffle(100).cache()\n",
        "\n",
        "testi = testi.map(relayer)"
      ],
      "metadata": {
        "id": "NZnvR1l15_Zk"
      },
      "execution_count": 4,
      "outputs": []
    },
    {
      "cell_type": "code",
      "source": [
        "from Hantu import Modelin, Modeler\n",
        "\n",
        "from tensorflow.keras import layers, Model\n",
        "\n",
        "model_one = Modelin()\n",
        "\n",
        "train = train.map(lambda i, l : (model_one(i), l))"
      ],
      "metadata": {
        "id": "9FzOXAXe6AsS"
      },
      "execution_count": 5,
      "outputs": []
    },
    {
      "cell_type": "code",
      "source": [
        "model = Modeler(output_node)\n",
        "\n",
        "model.compile(optimizer=\"adam\", loss=\"sparse_categorical_crossentropy\", metrics=[\"accuracy\"])\n",
        "\n",
        "hist = model.fit(train, epochs=8, verbose=1, validation_data=testi)"
      ],
      "metadata": {
        "id": "Qkxqj-IU6CAP"
      },
      "execution_count": null,
      "outputs": []
    }
  ]
}